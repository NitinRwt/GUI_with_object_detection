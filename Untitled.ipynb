{
 "cells": [
  {
   "cell_type": "code",
   "execution_count": 2,
   "id": "b92a3e19",
   "metadata": {},
   "outputs": [
    {
     "name": "stdout",
     "output_type": "stream",
     "text": [
      "Collecting opencv-python\n",
      "  Using cached opencv_python-4.7.0.72-cp37-abi3-win_amd64.whl (38.2 MB)\n",
      "Requirement already satisfied: numpy>=1.17.0 in c:\\users\\saurav\\anaconda3\\lib\\site-packages (from opencv-python) (1.21.5)\n",
      "Installing collected packages: opencv-python\n",
      "Successfully installed opencv-python-4.7.0.72\n"
     ]
    }
   ],
   "source": [
    "!pip install opencv-python"
   ]
  },
  {
   "cell_type": "code",
   "execution_count": 6,
   "id": "ab2b5e71",
   "metadata": {},
   "outputs": [
    {
     "name": "stderr",
     "output_type": "stream",
     "text": [
      "Exception in Tkinter callback\n",
      "Traceback (most recent call last):\n",
      "  File \"C:\\Users\\SAURAV\\anaconda3\\lib\\tkinter\\__init__.py\", line 1892, in __call__\n",
      "    return self.func(*args)\n",
      "  File \"C:\\Users\\SAURAV\\AppData\\Local\\Temp\\ipykernel_3996\\761733593.py\", line 63, in open_image\n",
      "    recognize_image()\n",
      "  File \"C:\\Users\\SAURAV\\AppData\\Local\\Temp\\ipykernel_3996\\761733593.py\", line 12, in recognize_image\n",
      "    model = tf.saved_model.load('path_to_your_model')  # Replace with the path to your saved model\n",
      "  File \"C:\\Users\\SAURAV\\anaconda3\\lib\\site-packages\\tensorflow\\python\\saved_model\\load.py\", line 836, in load\n",
      "    result = load_partial(export_dir, None, tags, options)[\"root\"]\n",
      "  File \"C:\\Users\\SAURAV\\anaconda3\\lib\\site-packages\\tensorflow\\python\\saved_model\\load.py\", line 941, in load_partial\n",
      "    loader_impl.parse_saved_model_with_debug_info(export_dir))\n",
      "  File \"C:\\Users\\SAURAV\\anaconda3\\lib\\site-packages\\tensorflow\\python\\saved_model\\loader_impl.py\", line 58, in parse_saved_model_with_debug_info\n",
      "    saved_model = parse_saved_model(export_dir)\n",
      "  File \"C:\\Users\\SAURAV\\anaconda3\\lib\\site-packages\\tensorflow\\python\\saved_model\\loader_impl.py\", line 116, in parse_saved_model\n",
      "    raise IOError(\n",
      "OSError: SavedModel file does not exist at: path_to_your_model\\{saved_model.pbtxt|saved_model.pb}\n"
     ]
    }
   ],
   "source": [
    "import tkinter as tk\n",
    "from tkinter import filedialog\n",
    "from PIL import Image, ImageTk\n",
    "import tensorflow as tf\n",
    "import numpy as np\n",
    "import cv2\n",
    "\n",
    "\n",
    "# Function to perform image recognition\n",
    "def recognize_image():\n",
    "    # Load the TensorFlow model\n",
    "    model = tf.saved_model.load('path_to_your_model')  # Replace with the path to your saved model\n",
    "    \n",
    "    # Load the image and preprocess it\n",
    "    image = cv2.imread(file_path)\n",
    "    image_rgb = cv2.cvtColor(image, cv2.COLOR_BGR2RGB)\n",
    "    image_resized = cv2.resize(image_rgb, (input_width, input_height))\n",
    "    input_tensor = np.expand_dims(image_resized, 0)\n",
    "    input_tensor = input_tensor.astype(np.uint8)\n",
    "    \n",
    "    # Perform object detection on the image\n",
    "    detections = model(input_tensor)\n",
    "    \n",
    "    # Process the detection results\n",
    "    # You can replace this with your own code to extract relevant information from detections\n",
    "    \n",
    "    # Display the image with bounding boxes\n",
    "    image_with_boxes = draw_boxes(image, detections)\n",
    "    photo = ImageTk.PhotoImage(image=Image.fromarray(image_with_boxes))\n",
    "    image_label.configure(image=photo)\n",
    "    image_label.image = photo\n",
    "\n",
    "# Function to draw bounding boxes on the image\n",
    "def draw_boxes(image, detections):\n",
    "    # Process the detection results and draw bounding boxes on the image\n",
    "    # You can replace this with your own code to draw bounding boxes based on detections\n",
    "    \n",
    "    # Placeholder code to draw a dummy box\n",
    "    image_height, image_width, _ = image.shape\n",
    "    start_point = (int(image_width / 4), int(image_height / 4))\n",
    "    end_point = (int(image_width * 3 / 4), int(image_height * 3 / 4))\n",
    "    color = (255, 0, 0)  # Blue color\n",
    "    thickness = 2\n",
    "    image_with_boxes = cv2.rectangle(image, start_point, end_point, color, thickness)\n",
    "    \n",
    "    return image_with_boxes\n",
    "\n",
    "# Function to open an image file\n",
    "def open_image():\n",
    "    # Open file dialog to select an image file\n",
    "    global file_path\n",
    "    file_path = filedialog.askopenfilename(filetypes=[(\"Image files\", \"*.jpg;*.jpeg;*.png;*.gif\")])\n",
    "    \n",
    "    if file_path:\n",
    "        # Load and display the selected image\n",
    "        image = Image.open(file_path)\n",
    "        image.thumbnail((300, 300))  # Resize the image to fit in the GUI\n",
    "        photo = ImageTk.PhotoImage(image)\n",
    "        image_label.configure(image=photo)\n",
    "        image_label.image = photo\n",
    "        \n",
    "        # Call the image recognition function\n",
    "        recognize_image()\n",
    "\n",
    "# Create the main window\n",
    "window = tk.Tk()\n",
    "window.title(\"Image Recognition\")\n",
    "\n",
    "# Create a label to display the image\n",
    "image_label = tk.Label(window)\n",
    "image_label.pack(padx=10, pady=10)\n",
    "\n",
    "# Create a button to open an image file\n",
    "open_button = tk.Button(window, text=\"Open Image\", command=open_image)\n",
    "open_button.pack(pady=5)\n",
    "\n",
    "# Define input size for the model\n",
    "input_width = 640\n",
    "input_height = 480\n",
    "\n",
    "# Start the GUI event loop\n",
    "window.mainloop()\n"
   ]
  },
  {
   "cell_type": "code",
   "execution_count": null,
   "id": "5215f22a",
   "metadata": {},
   "outputs": [],
   "source": []
  }
 ],
 "metadata": {
  "kernelspec": {
   "display_name": "Python 3 (ipykernel)",
   "language": "python",
   "name": "python3"
  },
  "language_info": {
   "codemirror_mode": {
    "name": "ipython",
    "version": 3
   },
   "file_extension": ".py",
   "mimetype": "text/x-python",
   "name": "python",
   "nbconvert_exporter": "python",
   "pygments_lexer": "ipython3",
   "version": "3.9.13"
  }
 },
 "nbformat": 4,
 "nbformat_minor": 5
}
